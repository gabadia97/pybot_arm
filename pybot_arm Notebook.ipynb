{
 "cells": [
  {
   "cell_type": "markdown",
   "id": "fe423297-0e7a-4c15-ab29-1cb15b5afc7b",
   "metadata": {
    "tags": []
   },
   "source": [
    "# pybot_arm"
   ]
  },
  {
   "cell_type": "markdown",
   "id": "02ff17f4-804e-4c3c-aa69-9749d4ae074d",
   "metadata": {
    "tags": []
   },
   "source": [
    "**Group: Gabriela Abadia, Devin Doyle, Hannah Sweatland**"
   ]
  },
  {
   "cell_type": "markdown",
   "id": "f7b2bb1e-9cbd-4758-af90-828800b2f0f0",
   "metadata": {},
   "source": [
    "## What is pybot-arm?"
   ]
  },
  {
   "cell_type": "markdown",
   "id": "02d14d1e-8eeb-4ff2-994d-7929ed485425",
   "metadata": {},
   "source": [
    "`pybot_arm` is a Python package created to solve the robot arm benchmark optimal control problem. The goal of this problem is to determine the set of controls that minimize the time taken for a robot arm to complete a user-specified manuever in minimal time.\n",
    "\n",
    "`pybot_arm` is a high-level package that utilizes the following Python packages:\n",
    "- `casadi`: open-source tool for nonlinear optimization and algorithmic differentiation\n",
    "- `python-control`: toolbox for the analysis and design of feedback control systems\n",
    "- `matplotlib`\n",
    "\n",
    "Supplemental packages:\n",
    "- `numpy`\n",
    "- `csv`\n",
    "- `pathlib`"
   ]
  },
  {
   "cell_type": "markdown",
   "id": "4f3d1468-faaa-481c-8929-17b04045133f",
   "metadata": {},
   "source": [
    "## Background"
   ]
  },
  {
   "cell_type": "markdown",
   "id": "848cb2fa-2b8f-4e8b-bbd1-d2ec5b8d6474",
   "metadata": {},
   "source": [
    "Consider the following optimal control problem:\n",
    "\n",
    "$ \\min t_f $\n",
    "\n",
    "subject to the following dynamic constraints\n",
    "\n",
    "$ L \\ddot{\\rho} = u_{\\rho}, \\qquad I_{\\theta} \\ddot{\\theta} = u_{\\theta}, \\qquad I_{\\phi} \\ddot{\\phi} = u_{\\phi}$,\n",
    "\n",
    "state bounds\n",
    "\n",
    "$ \\rho(t) \\in [0,L], \\qquad |\\theta(t)| \\leq \\pi, \\qquad 0 \\leq \\phi(t) \\leq \\pi$,\n",
    "\n",
    "control bounds\n",
    "\n",
    "$ |u_{\\rho}| \\leq 1, \\qquad |u_{\\theta}| \\leq 1, \\qquad |u_{\\phi}| \\leq 1 $,\n",
    "\n",
    "and boundary conditions\n",
    "\n",
    "$ \\begin{matrix} (\\rho(0),\\rho(t_f)) = (\\rho_0,\\rho_f) & (\\theta(0),\\theta(t_f)) = (\\theta_0,\\theta_f) & (\\phi(0),\\phi(t_f)) = (\\phi_0,\\phi_f) \\\\ (\\dot{\\rho}(0),\\dot{\\rho}(t_f)) = (\\dot{\\rho}_0,\\dot{\\rho}_f) & (\\dot{\\theta}(0),\\dot{\\theta}(t_f)) = (\\dot{\\theta}_0,\\dot{\\theta}_f) & (\\dot{\\phi}(0),\\dot{\\phi}(t_f)) = (\\dot{\\phi}_0,\\dot{\\phi}_f)\\end{matrix}$\n",
    "\n",
    "Reference: Dolan, Elizabeth D., Jorge J. Moré, and Todd S. Munson. Benchmarking optimization software with COPS 3.0. No. ANL/MCS-TM-273. Argonne National Lab., Argonne, IL (US), 2004.\n",
    "(https://www.mcs.anl.gov/~tmunson/papers/cops.pdf)"
   ]
  },
  {
   "cell_type": "markdown",
   "id": "42e81bf1-81c0-45a9-87c0-61d9e34b9d29",
   "metadata": {},
   "source": [
    "## pybot_ocp"
   ]
  },
  {
   "cell_type": "code",
   "execution_count": 1,
   "id": "b79f5a42-6825-4290-bf1f-3a99ed10379b",
   "metadata": {},
   "outputs": [],
   "source": [
    "import pybot_arm.pybot_ocp as ocp\n",
    "import numpy as np"
   ]
  },
  {
   "cell_type": "markdown",
   "id": "be51b41e-e5c2-4a97-8758-ce54ce0c9d54",
   "metadata": {},
   "source": [
    "First we need to define the following parameters:\n",
    "- `N`: number of control intervals (since we are discretizing the problem)\n",
    "- `L`: length of the robot arm\n",
    "- `bounds`: boundary conditions for all state variables\n",
    "\n",
    "Use `ocp.format_bounds(rho,rho_dot,theta,theta_dot,phi,phi_dot)`"
   ]
  },
  {
   "cell_type": "code",
   "execution_count": 2,
   "id": "8d110085-2194-428c-9d8a-539734876961",
   "metadata": {},
   "outputs": [],
   "source": [
    "N = 100\n",
    "\n",
    "L = 5\n",
    "\n",
    "bounds = ocp.format_bounds(rho=[4.5,4.5],\n",
    "                           rho_dot=[0,0],\n",
    "                           theta=[0,2*np.pi/3],\n",
    "                           theta_dot=[0,0],\n",
    "                           phi=[np.pi/4,np.pi/4],\n",
    "                           phi_dot=[0,0])"
   ]
  },
  {
   "cell_type": "markdown",
   "id": "22d0743a-18fd-42b7-9e8c-95e6b1ec2b2e",
   "metadata": {},
   "source": [
    "Next, we simply pass our parameters into `ocp.solve_pybot(N,L,bounds)` to obtain the optimal solution (if one exists)."
   ]
  },
  {
   "cell_type": "code",
   "execution_count": 3,
   "id": "bc2e2ca8-1c1b-445d-a4aa-ec40ff838d6b",
   "metadata": {},
   "outputs": [
    {
     "name": "stdout",
     "output_type": "stream",
     "text": [
      "\n",
      "******************************************************************************\n",
      "This program contains Ipopt, a library for large-scale nonlinear optimization.\n",
      " Ipopt is released as open source code under the Eclipse Public License (EPL).\n",
      "         For more information visit http://projects.coin-or.org/Ipopt\n",
      "******************************************************************************\n",
      "\n",
      "This is Ipopt version 3.12.3, running with linear solver mumps.\n",
      "NOTE: Other linear solvers might be more efficient (see Ipopt documentation).\n",
      "\n",
      "Number of nonzeros in equality constraint Jacobian...:     4512\n",
      "Number of nonzeros in inequality constraint Jacobian.:      604\n",
      "Number of nonzeros in Lagrangian Hessian.............:     3501\n",
      "\n",
      "Total number of variables............................:      907\n",
      "                     variables with only lower bounds:        0\n",
      "                variables with lower and upper bounds:        0\n",
      "                     variables with only upper bounds:        0\n",
      "Total number of equality constraints.................:      612\n",
      "Total number of inequality constraints...............:      604\n",
      "        inequality constraints with only lower bounds:        1\n",
      "   inequality constraints with lower and upper bounds:      603\n",
      "        inequality constraints with only upper bounds:        0\n",
      "\n",
      "iter    objective    inf_pr   inf_du lg(mu)  ||d||  lg(rg) alpha_du alpha_pr  ls\n",
      "   0  1.0000000e+00 2.09e+00 0.00e+00  -1.0 0.00e+00    -  0.00e+00 0.00e+00   0\n",
      "   1  9.9529128e-01 2.08e+00 1.33e+02  -1.0 1.89e+02    -  5.21e-03 5.23e-03h  1\n",
      "   2  1.6485570e+00 2.07e+00 8.79e+01  -1.0 8.57e+01    -  1.14e-02 7.63e-03h  2\n",
      "   3  2.8662975e+00 2.01e+00 6.43e+01  -1.0 4.73e+01    -  4.19e-02 2.57e-02h  2\n",
      "   4  7.6786266e+00 1.53e+00 4.25e+01  -1.0 2.45e+01    -  4.96e-01 2.43e-01H  1\n",
      "   5  9.4310869e+00 8.58e-01 2.29e+01  -1.0 4.01e+00    -  5.09e-01 4.37e-01f  1\n",
      "   6  1.0378338e+01 1.26e-03 3.69e+00  -1.0 9.47e-01    -  9.67e-01 1.00e+00f  1\n",
      "   7  1.1472135e+01 1.54e-03 1.39e+00  -1.0 1.09e+00    -  6.19e-01 1.00e+00f  1\n",
      "   8  1.5256298e+01 4.26e-03 3.70e-01  -1.0 3.78e+00    -  1.00e+00 1.00e+00f  1\n",
      "   9  9.0147824e+00 8.84e-03 3.23e-01  -1.7 6.57e+00    -  6.04e-01 9.51e-01f  1\n",
      "iter    objective    inf_pr   inf_du lg(mu)  ||d||  lg(rg) alpha_du alpha_pr  ls\n",
      "  10  1.0973525e+01 2.23e-03 4.51e-02  -1.7 2.45e+00    -  1.00e+00 7.99e-01h  1\n",
      "  11  1.0416175e+01 2.88e-04 2.90e-02  -2.5 5.57e-01    -  9.59e-01 1.00e+00h  1\n",
      "  12  9.7793163e+00 1.76e-03 6.23e-03  -2.5 6.37e-01    -  1.00e+00 1.00e+00f  1\n",
      "  13  9.3019669e+00 3.50e-04 6.24e-03  -3.8 4.77e-01    -  7.73e-01 1.00e+00f  1\n",
      "  14  9.2110331e+00 4.55e-04 9.52e-04  -3.8 8.42e-01    -  7.39e-01 8.63e-01h  1\n",
      "  15  9.1673836e+00 2.18e-04 5.07e-04  -5.7 9.15e-01    -  5.19e-01 6.66e-01h  1\n",
      "  16  9.1540116e+00 1.08e-04 1.69e-04  -5.7 8.05e-01    -  6.63e-01 5.35e-01h  1\n",
      "  17  9.1420054e+00 9.62e-06 1.43e-04  -5.7 5.09e-01    -  5.35e-01 1.00e+00h  1\n",
      "  18  9.1417353e+00 1.14e-08 6.51e-06  -5.7 9.30e-02    -  1.00e+00 1.00e+00h  1\n",
      "  19  9.1411893e+00 7.17e-09 1.62e-08  -8.6 6.57e-03    -  9.98e-01 9.99e-01f  1\n",
      "iter    objective    inf_pr   inf_du lg(mu)  ||d||  lg(rg) alpha_du alpha_pr  ls\n",
      "  20  9.1411884e+00 4.06e-14 1.71e-10  -8.6 3.81e-05    -  1.00e+00 1.00e+00f  1\n",
      "\n",
      "Number of Iterations....: 20\n",
      "\n",
      "                                   (scaled)                 (unscaled)\n",
      "Objective...............:   9.1411883626614863e+00    9.1411883626614863e+00\n",
      "Dual infeasibility......:   1.7079177451807272e-10    1.7079177451807272e-10\n",
      "Constraint violation....:   4.0634162701280729e-14    4.0634162701280729e-14\n",
      "Complementarity.........:   2.7146168361419604e-09    2.7146168361419604e-09\n",
      "Overall NLP error.......:   2.7146168361419604e-09    2.7146168361419604e-09\n",
      "\n",
      "\n",
      "Number of objective function evaluations             = 26\n",
      "Number of objective gradient evaluations             = 21\n",
      "Number of equality constraint evaluations            = 26\n",
      "Number of inequality constraint evaluations          = 26\n",
      "Number of equality constraint Jacobian evaluations   = 21\n",
      "Number of inequality constraint Jacobian evaluations = 21\n",
      "Number of Lagrangian Hessian evaluations             = 20\n",
      "Total CPU secs in IPOPT (w/o function evaluations)   =      0.115\n",
      "Total CPU secs in NLP function evaluations           =      0.392\n",
      "\n",
      "EXIT: Optimal Solution Found.\n",
      "      solver  :   t_proc      (avg)   t_wall      (avg)    n_eval\n",
      "       nlp_f  |  53.00us (  2.04us)  52.47us (  2.02us)        26\n",
      "       nlp_g  |  13.14ms (505.31us)  13.12ms (504.76us)        26\n",
      "  nlp_grad_f  | 115.00us (  5.23us) 115.44us (  5.25us)        22\n",
      "  nlp_hess_l  | 291.98ms ( 14.60ms) 291.84ms ( 14.59ms)        20\n",
      "   nlp_jac_g  |  89.99ms (  4.09ms)  90.00ms (  4.09ms)        22\n",
      "       total  | 521.50ms (521.50ms) 520.78ms (520.78ms)         1\n"
     ]
    }
   ],
   "source": [
    "sol = ocp.solve_pybot(N,L,bounds)"
   ]
  },
  {
   "cell_type": "code",
   "execution_count": 4,
   "id": "8d31edb0-073f-4b55-ad16-ba76915e45b3",
   "metadata": {},
   "outputs": [
    {
     "data": {
      "text/plain": [
       "(OptiSol(Opti {\n",
       "   instance #0\n",
       "   #variables: 3 (nx = 907)\n",
       "   #parameters: 0 (np = 0)\n",
       "   #constraints: 117 (ng = 1216)\n",
       "   CasADi solver allocated.\n",
       "   CasADi solver was called: Solve_Succeeded\n",
       " }),\n",
       " {'N': 100,\n",
       "  'L': 5,\n",
       "  'X': MX(opti0_x_1),\n",
       "  'U': MX(opti0_x_2),\n",
       "  'T': MX(opti0_x_3)})"
      ]
     },
     "execution_count": 4,
     "metadata": {},
     "output_type": "execute_result"
    }
   ],
   "source": [
    "sol"
   ]
  },
  {
   "cell_type": "markdown",
   "id": "46802f20-8076-4245-b16d-9ded0d24bc0a",
   "metadata": {},
   "source": [
    "The output from `ocp.solve_pybot` is a tuple that contains a `casadi.OptiSol` object of the solution and a dictionary of some of the problem setup parameters.\n",
    "\n",
    "Notice that X (state variables), U (control variables), and T (final time variable) are `casadi.MX` type. This stands for matrix expression, a symbolic type from the CasADI library. These symbolic representations of variables are useful for extracting data from the `casadi.OptiSol` object."
   ]
  },
  {
   "cell_type": "markdown",
   "id": "d79ddc3f-64a4-4fd2-b738-a88f22621c06",
   "metadata": {},
   "source": [
    "Lastly, we can use `ocp.export_to_csv(sol,filename,path=str(pathlib.Path.cwd()))` to create a file with our solution."
   ]
  },
  {
   "cell_type": "code",
   "execution_count": 5,
   "id": "18faec6f-da2f-4d7e-a037-296044f6cf93",
   "metadata": {},
   "outputs": [],
   "source": [
    "ocp.export_to_csv(sol,\"pybot_example\")"
   ]
  },
  {
   "cell_type": "markdown",
   "id": "03e260d9-0436-40ec-89d5-8ef82553e2e3",
   "metadata": {},
   "source": [
    "We can also extract the data from the `casadi.OptiSol` object directly without creating a csv file using `ocp.parse_sol(sol)` "
   ]
  },
  {
   "cell_type": "code",
   "execution_count": 6,
   "id": "5a8f6305-5d7e-4ed2-a09a-1495ae10376a",
   "metadata": {},
   "outputs": [],
   "source": [
    "time, X, X_dot, U = ocp.parse_sol(sol)"
   ]
  },
  {
   "cell_type": "code",
   "execution_count": 7,
   "id": "92629ce8-e6f8-4320-9cb9-8a22e5aa21ff",
   "metadata": {},
   "outputs": [
    {
     "name": "stdout",
     "output_type": "stream",
     "text": [
      "time:(101,)\n",
      "X:(6, 101)\n",
      "U:(3, 101)\n"
     ]
    }
   ],
   "source": [
    "print(f\"time:{time.shape}\")\n",
    "print(f\"X:{X.shape}\")\n",
    "print(f\"U:{U.shape}\")"
   ]
  },
  {
   "cell_type": "code",
   "execution_count": 8,
   "id": "b286d858-6de6-4a6e-89c6-a73c2bc0e0ac",
   "metadata": {},
   "outputs": [
    {
     "data": {
      "text/plain": [
       "9.141188362661486"
      ]
     },
     "execution_count": 8,
     "metadata": {},
     "output_type": "execute_result"
    }
   ],
   "source": [
    "time[-1]"
   ]
  },
  {
   "cell_type": "markdown",
   "id": "0ba1d687-e1e5-44ca-b79c-80e29a68be89",
   "metadata": {},
   "source": [
    "Notice that U[:,-1] = nan since the control is not computed at the final grid point."
   ]
  },
  {
   "cell_type": "code",
   "execution_count": 9,
   "id": "05f296bf-8f3b-4c4a-997e-a85ef6449a9d",
   "metadata": {},
   "outputs": [
    {
     "data": {
      "text/plain": [
       "array([-0.99999993, -0.99999993, -0.99999992, -0.99999992, -0.99999991,\n",
       "       -0.9999999 , -0.99999989, -0.99999989, -0.99999987, -0.99999986,\n",
       "       -0.99999985, -0.99999983, -0.99999982, -0.99999979, -0.99999977,\n",
       "       -0.99999973, -0.99999969, -0.99999964, -0.99999958, -0.99999948,\n",
       "       -0.99999934, -0.99999912, -0.99999871, -0.99999768, -0.99999103,\n",
       "        0.99999482,  0.99999796,  0.9999987 ,  0.99999903,  0.99999922,\n",
       "        0.99999934,  0.99999942,  0.99999948,  0.99999953,  0.99999956,\n",
       "        0.99999959,  0.99999961,  0.99999963,  0.99999965,  0.99999966,\n",
       "        0.99999967,  0.99999968,  0.99999968,  0.99999969,  0.99999969,\n",
       "        0.99999969,  0.99999969,  0.9999997 ,  0.9999997 ,  0.9999997 ,\n",
       "        0.9999997 ,  0.9999997 ,  0.9999997 ,  0.99999969,  0.99999969,\n",
       "        0.99999969,  0.99999969,  0.99999968,  0.99999968,  0.99999967,\n",
       "        0.99999966,  0.99999965,  0.99999963,  0.99999961,  0.99999959,\n",
       "        0.99999956,  0.99999953,  0.99999948,  0.99999942,  0.99999934,\n",
       "        0.99999922,  0.99999903,  0.9999987 ,  0.99999796,  0.99999482,\n",
       "       -0.99999102, -0.99999768, -0.99999871, -0.99999912, -0.99999934,\n",
       "       -0.99999948, -0.99999958, -0.99999964, -0.99999969, -0.99999973,\n",
       "       -0.99999977, -0.99999979, -0.99999982, -0.99999983, -0.99999985,\n",
       "       -0.99999986, -0.99999987, -0.99999989, -0.99999989, -0.9999999 ,\n",
       "       -0.99999991, -0.99999992, -0.99999992, -0.99999993, -0.99999993,\n",
       "               nan])"
      ]
     },
     "execution_count": 9,
     "metadata": {},
     "output_type": "execute_result"
    }
   ],
   "source": [
    "U[0]"
   ]
  },
  {
   "cell_type": "code",
   "execution_count": 10,
   "id": "0238d7a9-9599-4e46-bac4-da9e66004602",
   "metadata": {},
   "outputs": [
    {
     "data": {
      "image/png": "[encoded data removed]",
      "text/plain": [
       "<Figure size 640x480 with 1 Axes>"
      ]
     },
     "metadata": {},
     "output_type": "display_data"
    }
   ],
   "source": [
    "import matplotlib.pyplot as plt\n",
    "plt.plot(time,U[0]);"
   ]
  },
  {
   "cell_type": "markdown",
   "id": "84712691-1213-4c1a-9007-e34315b238fa",
   "metadata": {},
   "source": [
    "Notice that just because the solver returned \"Optimal solution found.\" does not mean that the solution is \"good\". For example, the quality of the solution will deteriorate if not enough control intervals are used."
   ]
  },
  {
   "cell_type": "code",
   "execution_count": 11,
   "id": "4dff0917-80fc-42d9-ba67-90e72a802858",
   "metadata": {},
   "outputs": [
    {
     "name": "stdout",
     "output_type": "stream",
     "text": [
      "This is Ipopt version 3.12.3, running with linear solver mumps.\n",
      "NOTE: Other linear solvers might be more efficient (see Ipopt documentation).\n",
      "\n",
      "Number of nonzeros in equality constraint Jacobian...:      282\n",
      "Number of nonzeros in inequality constraint Jacobian.:       40\n",
      "Number of nonzeros in Lagrangian Hessian.............:      211\n",
      "\n",
      "Total number of variables............................:       61\n",
      "                     variables with only lower bounds:        0\n",
      "                variables with lower and upper bounds:        0\n",
      "                     variables with only upper bounds:        0\n",
      "Total number of equality constraints.................:       48\n",
      "Total number of inequality constraints...............:       40\n",
      "        inequality constraints with only lower bounds:        1\n",
      "   inequality constraints with lower and upper bounds:       39\n",
      "        inequality constraints with only upper bounds:        0\n",
      "\n",
      "iter    objective    inf_pr   inf_du lg(mu)  ||d||  lg(rg) alpha_du alpha_pr  ls\n",
      "   0  1.0000000e+00 2.09e+00 0.00e+00  -1.0 0.00e+00    -  0.00e+00 0.00e+00   0\n",
      "   1  9.9456086e-01 2.08e+00 1.10e+01  -1.0 1.64e+02    -  6.01e-03 6.04e-03h  1\n",
      "   2  2.1182180e+00 2.05e+00 9.82e+01  -1.0 7.68e+01    -  1.28e-02 1.48e-02H  1\n",
      "   3  4.5153129e+00 1.90e+00 4.76e+01  -1.0 3.25e+01    -  8.51e-02 7.37e-02h  1\n",
      "   4  8.0390133e+00 9.37e-01 4.07e+01  -1.0 1.25e+01    -  5.54e-01 5.07e-01H  1\n",
      "   5  9.5825294e+00 3.78e-01 1.49e+01  -1.0 2.59e+00    -  7.01e-01 5.96e-01h  1\n",
      "   6  9.9298997e+00 6.71e-03 3.08e+00  -1.0 3.78e-01    -  1.00e+00 1.00e+00f  1\n",
      "   7  1.0438568e+01 4.35e-03 5.82e-01  -1.0 5.09e-01    -  9.15e-01 1.00e+00f  1\n",
      "   8  9.7236450e+00 4.77e-03 2.14e-01  -1.7 7.15e-01    -  1.00e+00 1.00e+00f  1\n",
      "   9  9.5587887e+00 1.64e-03 6.64e-02  -1.7 3.18e-01    -  1.00e+00 1.00e+00h  1\n",
      "iter    objective    inf_pr   inf_du lg(mu)  ||d||  lg(rg) alpha_du alpha_pr  ls\n",
      "  10  9.3513997e+00 7.89e-04 4.92e-03  -2.5 2.07e-01    -  1.00e+00 1.00e+00f  1\n",
      "  11  9.3049830e+00 8.44e-05 1.02e-03  -3.8 4.80e-02    -  1.00e+00 9.66e-01h  1\n",
      "  12  9.3023722e+00 2.35e-05 4.30e-02  -5.7 3.61e-03    -  1.00e+00 7.23e-01h  1\n",
      "  13  9.3016250e+00 1.61e-06 1.14e-02  -5.7 9.61e-04    -  8.15e-01 9.32e-01h  1\n",
      "  14  9.3015319e+00 1.13e-09 2.38e-06  -5.7 2.21e-04    -  1.00e+00 1.00e+00f  1\n",
      "  15  9.3015081e+00 1.37e-11 6.05e-07  -8.6 2.38e-05    -  1.00e+00 9.99e-01h  1\n",
      "  16  9.3015081e+00 8.88e-16 2.51e-14  -8.6 2.72e-08    -  1.00e+00 1.00e+00f  1\n",
      "\n",
      "Number of Iterations....: 16\n",
      "\n",
      "                                   (scaled)                 (unscaled)\n",
      "Objective...............:   9.3015080662166927e+00    9.3015080662166927e+00\n",
      "Dual infeasibility......:   2.5059035596757724e-14    2.5059035596757724e-14\n",
      "Constraint violation....:   8.8817841970012523e-16    8.8817841970012523e-16\n",
      "Complementarity.........:   2.5059297531850914e-09    2.5059297531850914e-09\n",
      "Overall NLP error.......:   2.5059297531850914e-09    2.5059297531850914e-09\n",
      "\n",
      "\n",
      "Number of objective function evaluations             = 19\n",
      "Number of objective gradient evaluations             = 17\n",
      "Number of equality constraint evaluations            = 19\n",
      "Number of inequality constraint evaluations          = 19\n",
      "Number of equality constraint Jacobian evaluations   = 17\n",
      "Number of inequality constraint Jacobian evaluations = 17\n",
      "Number of Lagrangian Hessian evaluations             = 16\n",
      "Total CPU secs in IPOPT (w/o function evaluations)   =      0.009\n",
      "Total CPU secs in NLP function evaluations           =      0.008\n",
      "\n",
      "EXIT: Optimal Solution Found.\n",
      "      solver  :   t_proc      (avg)   t_wall      (avg)    n_eval\n",
      "       nlp_f  |  19.00us (  1.00us)  20.39us (  1.07us)        19\n",
      "       nlp_g  | 392.00us ( 20.63us) 392.73us ( 20.67us)        19\n",
      "  nlp_grad_f  |  51.00us (  2.83us)  49.16us (  2.73us)        18\n",
      "  nlp_hess_l  |   5.33ms (333.38us)   5.33ms (333.24us)        16\n",
      "   nlp_jac_g  |   2.91ms (161.56us)   2.83ms (157.00us)        18\n",
      "       total  |  21.36ms ( 21.36ms)  20.36ms ( 20.36ms)         1\n"
     ]
    },
    {
     "data": {
      "image/png": "[encoded data removed]",
      "text/plain": [
       "<Figure size 640x480 with 1 Axes>"
      ]
     },
     "metadata": {},
     "output_type": "display_data"
    }
   ],
   "source": [
    "sol = ocp.solve_pybot(6,L,bounds)\n",
    "time, X, X_dot, U = ocp.parse_sol(sol)\n",
    "plt.plot(time,U[0]);"
   ]
  },
  {
   "cell_type": "markdown",
   "id": "d2ef3a96-5539-4211-bc02-053a4b076129",
   "metadata": {},
   "source": [
    "Lastly, `ocp.solve_pybot()` will return an error if the user-selected parameters are infeasible. "
   ]
  },
  {
   "cell_type": "code",
   "execution_count": 12,
   "id": "8e3cb700-1f78-4668-963b-010cb9a75e23",
   "metadata": {},
   "outputs": [
    {
     "name": "stdout",
     "output_type": "stream",
     "text": [
      "This is Ipopt version 3.12.3, running with linear solver mumps.\n",
      "NOTE: Other linear solvers might be more efficient (see Ipopt documentation).\n",
      "\n",
      "Number of nonzeros in equality constraint Jacobian...:     4512\n",
      "Number of nonzeros in inequality constraint Jacobian.:      604\n",
      "Number of nonzeros in Lagrangian Hessian.............:     3501\n",
      "\n",
      "Total number of variables............................:      907\n",
      "                     variables with only lower bounds:        0\n",
      "                variables with lower and upper bounds:        0\n",
      "                     variables with only upper bounds:        0\n",
      "Total number of equality constraints.................:      612\n",
      "Total number of inequality constraints...............:      604\n",
      "        inequality constraints with only lower bounds:        1\n",
      "   inequality constraints with lower and upper bounds:      603\n",
      "        inequality constraints with only upper bounds:        0\n",
      "\n",
      "iter    objective    inf_pr   inf_du lg(mu)  ||d||  lg(rg) alpha_du alpha_pr  ls\n",
      "   0  1.0000000e+00 2.50e+00 0.00e+00  -1.0 0.00e+00    -  0.00e+00 0.00e+00   0\n",
      "   1  9.9430903e-01 2.50e+00 1.33e+02  -1.0 1.57e+02    -  6.29e-03 6.32e-03h  1\n",
      "   2  1.1081994e+00 2.50e+00 1.32e+02  -1.0 7.09e+01    -  1.37e-02 1.61e-03h  1\n",
      "   3  1.1092334e+00 2.50e+00 1.74e+03  -1.0 6.42e+02    -  1.62e-03 1.61e-05h  1\n",
      "   4r 1.1092334e+00 2.50e+00 9.99e+02   0.4 0.00e+00    -  0.00e+00 8.05e-08R  2\n",
      "   5r 2.7868136e+00 2.50e+00 9.79e+02   0.4 8.53e+01    -  1.97e-02 1.97e-02f  1\n",
      "   6r 2.8256914e+00 2.31e+00 9.36e+02   0.4 4.84e+00   2.0 2.41e-03 8.76e-02f  1\n",
      "   7r 2.7628450e+00 1.93e+00 8.76e+02   0.4 1.45e+01   1.5 2.02e-02 1.34e-01f  1\n",
      "   8  2.7664413e+00 1.93e+00 1.54e+02  -1.0 3.56e+01    -  3.47e-02 2.30e-04h  1\n",
      "   9r 2.7664413e+00 1.93e+00 9.99e+02   0.3 0.00e+00    -  0.00e+00 2.87e-07R  4\n",
      "iter    objective    inf_pr   inf_du lg(mu)  ||d||  lg(rg) alpha_du alpha_pr  ls\n",
      "  10r 2.4749347e+00 2.34e+00 9.87e+02   0.3 3.59e+01    -  6.73e-03 1.23e-02f  1\n",
      "  11r 2.9512947e+00 2.47e+00 9.69e+02   0.3 2.43e+01    -  1.25e-02 1.96e-02f  1\n",
      "  12r 3.6211131e+00 2.49e+00 9.46e+02   0.3 2.99e+01    -  3.70e-02 2.24e-02f  1\n",
      "  13r 4.8706172e+00 2.50e+00 8.96e+02   0.3 2.37e+01    -  6.62e-02 5.28e-02f  1\n",
      "  14r 6.4318360e+00 2.50e+00 8.64e+02   0.3 4.45e+01    -  5.16e-02 3.50e-02f  1\n",
      "  15r 6.5446490e+00 2.50e+00 8.57e+02   0.3 1.29e+01    -  3.66e-01 8.74e-03f  1\n",
      "  16r 1.0303845e+01 2.50e+00 6.30e+02   0.3 7.92e+00    -  2.01e-01 4.75e-01f  1\n",
      "  17r 1.1890303e+01 2.50e+00 1.29e+02   0.3 1.98e+00    -  7.92e-01 7.99e-01f  1\n",
      "  18r 1.4432800e+01 2.50e+00 6.99e+01   0.3 2.54e+00    -  6.01e-01 1.00e+00f  1\n",
      "  19r 1.2980973e+01 2.50e+00 3.84e+00  -0.4 1.52e+00    -  1.00e+00 9.58e-01f  1\n",
      "iter    objective    inf_pr   inf_du lg(mu)  ||d||  lg(rg) alpha_du alpha_pr  ls\n",
      "  20r 1.1122542e+01 2.50e+00 3.97e+00  -1.8 2.13e+00    -  8.66e-01 8.72e-01f  1\n",
      "  21r 1.1097934e+01 2.50e+00 4.02e+00  -1.8 3.04e-02   0.0 9.79e-01 1.00e+00f  1\n",
      "  22r 1.0939165e+01 2.50e+00 2.30e-02  -1.8 1.92e-01    -  1.00e+00 1.00e+00f  1\n",
      "  23r 9.7414251e+00 2.50e+00 3.36e+00  -4.1 1.20e+00    -  6.73e-01 9.95e-01f  1\n",
      "  24r 9.7618130e+00 2.50e+00 4.96e-01  -4.1 2.54e-02  -0.5 9.49e-01 1.00e+00h  1\n",
      "  25r 1.0352414e+01 2.50e+00 5.75e-02  -4.1 5.91e-01    -  8.55e-01 1.00e+00h  1\n",
      "  26r 1.0049175e+01 2.50e+00 2.17e-02  -4.1 6.06e-01    -  1.00e+00 5.00e-01h  2\n",
      "  27r 9.8992372e+00 2.50e+00 6.83e-03  -4.1 3.00e-01    -  1.00e+00 5.00e-01h  2\n",
      "  28r 9.8255625e+00 2.50e+00 3.52e-03  -4.1 1.47e-01    -  1.00e+00 5.00e-01h  2\n",
      "  29r 9.6722748e+00 2.50e+00 2.25e-02  -6.1 1.53e-01    -  8.56e-01 1.00e+00f  1\n",
      "iter    objective    inf_pr   inf_du lg(mu)  ||d||  lg(rg) alpha_du alpha_pr  ls\n",
      "  30r 9.6724988e+00 2.50e+00 2.02e-03  -6.1 1.05e-03  -1.0 9.93e-01 1.00e+00h  1\n",
      "  31r 9.6954453e+00 2.50e+00 4.83e-06  -6.1 4.86e-02    -  1.00e+00 1.00e+00h  1\n",
      "  32r 9.6835079e+00 2.50e+00 2.12e-03  -9.0 3.23e-02    -  9.66e-01 1.00e+00h  1\n",
      "  33r 9.6835066e+00 2.50e+00 5.19e-07  -9.0 1.40e-05  -1.4 1.00e+00 1.00e+00h  1\n",
      "  34r 9.6845506e+00 2.50e+00 1.60e-09  -9.0 4.24e-03    -  1.00e+00 1.00e+00h  1\n",
      "\n",
      "Number of Iterations....: 34\n",
      "\n",
      "                                   (scaled)                 (unscaled)\n",
      "Objective...............:   9.6844818365309528e+00    9.6844818365309528e+00\n",
      "Dual infeasibility......:   9.9992460105084169e-01    9.9992460105084169e-01\n",
      "Constraint violation....:   2.4999941932832757e+00    2.4999941932832757e+00\n",
      "Complementarity.........:   9.1108245882275885e-10    9.1108245882275885e-10\n",
      "Overall NLP error.......:   2.4999941932832757e+00    2.4999941932832757e+00\n",
      "\n",
      "\n",
      "Number of objective function evaluations             = 45\n",
      "Number of objective gradient evaluations             = 9\n",
      "Number of equality constraint evaluations            = 45\n",
      "Number of inequality constraint evaluations          = 45\n",
      "Number of equality constraint Jacobian evaluations   = 38\n",
      "Number of inequality constraint Jacobian evaluations = 38\n",
      "Number of Lagrangian Hessian evaluations             = 35\n",
      "Total CPU secs in IPOPT (w/o function evaluations)   =      0.328\n",
      "Total CPU secs in NLP function evaluations           =      0.734\n",
      "\n",
      "EXIT: Converged to a point of local infeasibility. Problem may be infeasible.\n",
      "      solver  :   t_proc      (avg)   t_wall      (avg)    n_eval\n",
      "       nlp_f  | 107.00us (  2.38us)  96.92us (  2.15us)        45\n",
      "       nlp_g  |  23.76ms (528.02us)  23.75ms (527.73us)        45\n",
      "  nlp_grad_f  |  60.00us (  6.00us)  62.29us (  6.23us)        10\n",
      "  nlp_hess_l  | 530.76ms ( 16.08ms) 530.65ms ( 16.08ms)        33\n",
      "   nlp_jac_g  | 185.88ms (  4.77ms) 186.18ms (  4.77ms)        39\n",
      "       total  |   1.09 s (  1.09 s)   1.09 s (  1.09 s)         1\n"
     ]
    },
    {
     "ename": "RuntimeError",
     "evalue": "Error in Opti::solve [OptiNode] at .../casadi/core/optistack.cpp:159:\n.../casadi/core/optistack_internal.cpp:999: Assertion \"return_success(accept_limit)\" failed:\nSolver failed. You may use opti.debug.value to investigate the latest values of variables. return_status is 'Infeasible_Problem_Detected'",
     "output_type": "error",
     "traceback": [
      "\u001b[0;31m---------------------------------------------------------------------------\u001b[0m",
      "\u001b[0;31mRuntimeError\u001b[0m                              Traceback (most recent call last)",
      "\u001b[0;32m/var/folders/2h/s6kky2_13j9b41gbg95j7m5r_34t_b/T/ipykernel_19957/2421493679.py\u001b[0m in \u001b[0;36m<cell line: 1>\u001b[0;34m()\u001b[0m\n\u001b[0;32m----> 1\u001b[0;31m \u001b[0msol\u001b[0m \u001b[0;34m=\u001b[0m \u001b[0mocp\u001b[0m\u001b[0;34m.\u001b[0m\u001b[0msolve_pybot\u001b[0m\u001b[0;34m(\u001b[0m\u001b[0;36m100\u001b[0m\u001b[0;34m,\u001b[0m\u001b[0;36m2\u001b[0m\u001b[0;34m,\u001b[0m\u001b[0mbounds\u001b[0m\u001b[0;34m)\u001b[0m\u001b[0;34m\u001b[0m\u001b[0;34m\u001b[0m\u001b[0m\n\u001b[0m",
      "\u001b[0;32m~/Desktop/pybot_arm/pybot_arm/pybot_ocp.py\u001b[0m in \u001b[0;36msolve_pybot\u001b[0;34m(N, L, bounds)\u001b[0m\n\u001b[1;32m    194\u001b[0m \u001b[0;34m\u001b[0m\u001b[0m\n\u001b[1;32m    195\u001b[0m     \u001b[0;31m# Solve OCP\u001b[0m\u001b[0;34m\u001b[0m\u001b[0;34m\u001b[0m\u001b[0m\n\u001b[0;32m--> 196\u001b[0;31m     \u001b[0msolve_ocp\u001b[0m \u001b[0;34m=\u001b[0m \u001b[0mopti\u001b[0m\u001b[0;34m.\u001b[0m\u001b[0msolve\u001b[0m\u001b[0;34m(\u001b[0m\u001b[0;34m)\u001b[0m\u001b[0;34m\u001b[0m\u001b[0;34m\u001b[0m\u001b[0m\n\u001b[0m\u001b[1;32m    197\u001b[0m \u001b[0;34m\u001b[0m\u001b[0m\n\u001b[1;32m    198\u001b[0m     \u001b[0;31m# return opti\u001b[0m\u001b[0;34m\u001b[0m\u001b[0;34m\u001b[0m\u001b[0m\n",
      "\u001b[0;32m/opt/anaconda3/envs/robot_arm_cas/lib/python3.9/site-packages/casadi/casadi.py\u001b[0m in \u001b[0;36msolve\u001b[0;34m(self, *args)\u001b[0m\n\u001b[1;32m  27548\u001b[0m \u001b[0;34m\u001b[0m\u001b[0m\n\u001b[1;32m  27549\u001b[0m         \"\"\"\n\u001b[0;32m> 27550\u001b[0;31m         \u001b[0;32mreturn\u001b[0m \u001b[0m_casadi\u001b[0m\u001b[0;34m.\u001b[0m\u001b[0mOpti_solve\u001b[0m\u001b[0;34m(\u001b[0m\u001b[0mself\u001b[0m\u001b[0;34m,\u001b[0m \u001b[0;34m*\u001b[0m\u001b[0margs\u001b[0m\u001b[0;34m)\u001b[0m\u001b[0;34m\u001b[0m\u001b[0;34m\u001b[0m\u001b[0m\n\u001b[0m\u001b[1;32m  27551\u001b[0m \u001b[0;34m\u001b[0m\u001b[0m\n\u001b[1;32m  27552\u001b[0m \u001b[0;34m\u001b[0m\u001b[0m\n",
      "\u001b[0;31mRuntimeError\u001b[0m: Error in Opti::solve [OptiNode] at .../casadi/core/optistack.cpp:159:\n.../casadi/core/optistack_internal.cpp:999: Assertion \"return_success(accept_limit)\" failed:\nSolver failed. You may use opti.debug.value to investigate the latest values of variables. return_status is 'Infeasible_Problem_Detected'"
     ]
    }
   ],
   "source": [
    "sol = ocp.solve_pybot(100,2,bounds)"
   ]
  }
 ],
 "metadata": {
  "kernelspec": {
   "display_name": "Python [conda env:anaconda3-robot_arm_cas]",
   "language": "python",
   "name": "conda-env-anaconda3-robot_arm_cas-py"
  },
  "language_info": {
   "codemirror_mode": {
    "name": "ipython",
    "version": 3
   },
   "file_extension": ".py",
   "mimetype": "text/x-python",
   "name": "python",
   "nbconvert_exporter": "python",
   "pygments_lexer": "ipython3",
   "version": "3.9.15"
  }
 },
 "nbformat": 4,
 "nbformat_minor": 5
}
